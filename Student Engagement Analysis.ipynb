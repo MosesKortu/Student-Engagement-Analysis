{
 "cells": [
  {
   "cell_type": "code",
   "execution_count": 1,
   "id": "5b3e94bf",
   "metadata": {},
   "outputs": [],
   "source": [
    "import pandas as pd\n",
    "import numpy as np\n",
    "import matplotlib.pyplot as plt"
   ]
  },
  {
   "cell_type": "code",
   "execution_count": 4,
   "id": "663058c2",
   "metadata": {},
   "outputs": [],
   "source": [
    "# Sample data for student engagement in an online course\n",
    "data = {\n",
    "    'Student_ID': range(1, 11),\n",
    "    'Course_Completion_Percentage': [85, 90, 78, 88, 92, 79, 85, 95, 88, 91],\n",
    "    'Forum_Posts': [10, 15, 5, 13, 20, 7, 8, 25, 12, 17],\n",
    "    'Student_Satisfaction_Score': [4.5, 4.7, 3.9, 4.6, 4.8, 4.2, 4.3, 5.0, 4.6, 4.7]\n",
    "}\n",
    "\n",
    "data = pd.DataFrame(data)"
   ]
  },
  {
   "cell_type": "code",
   "execution_count": 19,
   "id": "5dda8397",
   "metadata": {},
   "outputs": [],
   "source": [
    "data = data.reset_index(drop = True)"
   ]
  },
  {
   "cell_type": "code",
   "execution_count": 30,
   "id": "3abec84b",
   "metadata": {},
   "outputs": [
    {
     "data": {
      "text/html": [
       "<div>\n",
       "<style scoped>\n",
       "    .dataframe tbody tr th:only-of-type {\n",
       "        vertical-align: middle;\n",
       "    }\n",
       "\n",
       "    .dataframe tbody tr th {\n",
       "        vertical-align: top;\n",
       "    }\n",
       "\n",
       "    .dataframe thead th {\n",
       "        text-align: right;\n",
       "    }\n",
       "</style>\n",
       "<table border=\"1\" class=\"dataframe\">\n",
       "  <thead>\n",
       "    <tr style=\"text-align: right;\">\n",
       "      <th></th>\n",
       "      <th>Student_ID</th>\n",
       "      <th>Course_Completion_Percentage</th>\n",
       "      <th>Forum_Posts</th>\n",
       "      <th>Student_Satisfaction_Score</th>\n",
       "    </tr>\n",
       "  </thead>\n",
       "  <tbody>\n",
       "    <tr>\n",
       "      <th>0</th>\n",
       "      <td>1</td>\n",
       "      <td>85</td>\n",
       "      <td>10</td>\n",
       "      <td>4.5</td>\n",
       "    </tr>\n",
       "    <tr>\n",
       "      <th>1</th>\n",
       "      <td>2</td>\n",
       "      <td>90</td>\n",
       "      <td>15</td>\n",
       "      <td>4.7</td>\n",
       "    </tr>\n",
       "    <tr>\n",
       "      <th>2</th>\n",
       "      <td>3</td>\n",
       "      <td>78</td>\n",
       "      <td>5</td>\n",
       "      <td>3.9</td>\n",
       "    </tr>\n",
       "    <tr>\n",
       "      <th>3</th>\n",
       "      <td>4</td>\n",
       "      <td>88</td>\n",
       "      <td>13</td>\n",
       "      <td>4.6</td>\n",
       "    </tr>\n",
       "    <tr>\n",
       "      <th>4</th>\n",
       "      <td>5</td>\n",
       "      <td>92</td>\n",
       "      <td>20</td>\n",
       "      <td>4.8</td>\n",
       "    </tr>\n",
       "    <tr>\n",
       "      <th>5</th>\n",
       "      <td>6</td>\n",
       "      <td>79</td>\n",
       "      <td>7</td>\n",
       "      <td>4.2</td>\n",
       "    </tr>\n",
       "    <tr>\n",
       "      <th>6</th>\n",
       "      <td>7</td>\n",
       "      <td>85</td>\n",
       "      <td>8</td>\n",
       "      <td>4.3</td>\n",
       "    </tr>\n",
       "    <tr>\n",
       "      <th>7</th>\n",
       "      <td>8</td>\n",
       "      <td>95</td>\n",
       "      <td>25</td>\n",
       "      <td>5.0</td>\n",
       "    </tr>\n",
       "    <tr>\n",
       "      <th>8</th>\n",
       "      <td>9</td>\n",
       "      <td>88</td>\n",
       "      <td>12</td>\n",
       "      <td>4.6</td>\n",
       "    </tr>\n",
       "    <tr>\n",
       "      <th>9</th>\n",
       "      <td>10</td>\n",
       "      <td>91</td>\n",
       "      <td>17</td>\n",
       "      <td>4.7</td>\n",
       "    </tr>\n",
       "  </tbody>\n",
       "</table>\n",
       "</div>"
      ],
      "text/plain": [
       "   Student_ID  Course_Completion_Percentage  Forum_Posts  \\\n",
       "0           1                            85           10   \n",
       "1           2                            90           15   \n",
       "2           3                            78            5   \n",
       "3           4                            88           13   \n",
       "4           5                            92           20   \n",
       "5           6                            79            7   \n",
       "6           7                            85            8   \n",
       "7           8                            95           25   \n",
       "8           9                            88           12   \n",
       "9          10                            91           17   \n",
       "\n",
       "   Student_Satisfaction_Score  \n",
       "0                         4.5  \n",
       "1                         4.7  \n",
       "2                         3.9  \n",
       "3                         4.6  \n",
       "4                         4.8  \n",
       "5                         4.2  \n",
       "6                         4.3  \n",
       "7                         5.0  \n",
       "8                         4.6  \n",
       "9                         4.7  "
      ]
     },
     "execution_count": 30,
     "metadata": {},
     "output_type": "execute_result"
    }
   ],
   "source": [
    "data.drop(columns = ['index'])\n"
   ]
  },
  {
   "cell_type": "code",
   "execution_count": 13,
   "id": "cad13768",
   "metadata": {},
   "outputs": [
    {
     "data": {
      "text/html": [
       "<div>\n",
       "<style scoped>\n",
       "    .dataframe tbody tr th:only-of-type {\n",
       "        vertical-align: middle;\n",
       "    }\n",
       "\n",
       "    .dataframe tbody tr th {\n",
       "        vertical-align: top;\n",
       "    }\n",
       "\n",
       "    .dataframe thead th {\n",
       "        text-align: right;\n",
       "    }\n",
       "</style>\n",
       "<table border=\"1\" class=\"dataframe\">\n",
       "  <thead>\n",
       "    <tr style=\"text-align: right;\">\n",
       "      <th></th>\n",
       "      <th>Student_ID</th>\n",
       "      <th>Course_Completion_Percentage</th>\n",
       "      <th>Forum_Posts</th>\n",
       "      <th>Student_Satisfaction_Score</th>\n",
       "    </tr>\n",
       "  </thead>\n",
       "  <tbody>\n",
       "    <tr>\n",
       "      <th>0</th>\n",
       "      <td>1</td>\n",
       "      <td>85</td>\n",
       "      <td>10</td>\n",
       "      <td>4.5</td>\n",
       "    </tr>\n",
       "    <tr>\n",
       "      <th>1</th>\n",
       "      <td>2</td>\n",
       "      <td>90</td>\n",
       "      <td>15</td>\n",
       "      <td>4.7</td>\n",
       "    </tr>\n",
       "    <tr>\n",
       "      <th>2</th>\n",
       "      <td>3</td>\n",
       "      <td>78</td>\n",
       "      <td>5</td>\n",
       "      <td>3.9</td>\n",
       "    </tr>\n",
       "    <tr>\n",
       "      <th>3</th>\n",
       "      <td>4</td>\n",
       "      <td>88</td>\n",
       "      <td>13</td>\n",
       "      <td>4.6</td>\n",
       "    </tr>\n",
       "    <tr>\n",
       "      <th>4</th>\n",
       "      <td>5</td>\n",
       "      <td>92</td>\n",
       "      <td>20</td>\n",
       "      <td>4.8</td>\n",
       "    </tr>\n",
       "    <tr>\n",
       "      <th>5</th>\n",
       "      <td>6</td>\n",
       "      <td>79</td>\n",
       "      <td>7</td>\n",
       "      <td>4.2</td>\n",
       "    </tr>\n",
       "    <tr>\n",
       "      <th>6</th>\n",
       "      <td>7</td>\n",
       "      <td>85</td>\n",
       "      <td>8</td>\n",
       "      <td>4.3</td>\n",
       "    </tr>\n",
       "    <tr>\n",
       "      <th>7</th>\n",
       "      <td>8</td>\n",
       "      <td>95</td>\n",
       "      <td>25</td>\n",
       "      <td>5.0</td>\n",
       "    </tr>\n",
       "    <tr>\n",
       "      <th>8</th>\n",
       "      <td>9</td>\n",
       "      <td>88</td>\n",
       "      <td>12</td>\n",
       "      <td>4.6</td>\n",
       "    </tr>\n",
       "    <tr>\n",
       "      <th>9</th>\n",
       "      <td>10</td>\n",
       "      <td>91</td>\n",
       "      <td>17</td>\n",
       "      <td>4.7</td>\n",
       "    </tr>\n",
       "  </tbody>\n",
       "</table>\n",
       "</div>"
      ],
      "text/plain": [
       "   Student_ID  Course_Completion_Percentage  Forum_Posts  \\\n",
       "0           1                            85           10   \n",
       "1           2                            90           15   \n",
       "2           3                            78            5   \n",
       "3           4                            88           13   \n",
       "4           5                            92           20   \n",
       "5           6                            79            7   \n",
       "6           7                            85            8   \n",
       "7           8                            95           25   \n",
       "8           9                            88           12   \n",
       "9          10                            91           17   \n",
       "\n",
       "   Student_Satisfaction_Score  \n",
       "0                         4.5  \n",
       "1                         4.7  \n",
       "2                         3.9  \n",
       "3                         4.6  \n",
       "4                         4.8  \n",
       "5                         4.2  \n",
       "6                         4.3  \n",
       "7                         5.0  \n",
       "8                         4.6  \n",
       "9                         4.7  "
      ]
     },
     "execution_count": 13,
     "metadata": {},
     "output_type": "execute_result"
    }
   ],
   "source": []
  },
  {
   "cell_type": "code",
   "execution_count": 31,
   "id": "f574847d",
   "metadata": {},
   "outputs": [
    {
     "data": {
      "text/plain": [
       "\"'The average course completion is: 87.1%'\""
      ]
     },
     "execution_count": 31,
     "metadata": {},
     "output_type": "execute_result"
    }
   ],
   "source": [
    "#Average Course completion \n",
    "avg_coursecompletion = data['Course_Completion_Percentage'].mean()\n",
    "f\"'The average course completion is: {avg_coursecompletion}%'\""
   ]
  },
  {
   "cell_type": "code",
   "execution_count": 32,
   "id": "e1a465fb",
   "metadata": {},
   "outputs": [
    {
     "data": {
      "text/plain": [
       "\"'The average course completion is: 4.53'\""
      ]
     },
     "execution_count": 32,
     "metadata": {},
     "output_type": "execute_result"
    }
   ],
   "source": [
    "#Average Student Satisfaction score\n",
    "avg_satifaction_score = data['Student_Satisfaction_Score'].mean()\n",
    "f\"'The average course completion is: {avg_satifaction_score}'\""
   ]
  },
  {
   "cell_type": "code",
   "execution_count": 33,
   "id": "09c9650f",
   "metadata": {},
   "outputs": [
    {
     "data": {
      "text/html": [
       "<div>\n",
       "<style scoped>\n",
       "    .dataframe tbody tr th:only-of-type {\n",
       "        vertical-align: middle;\n",
       "    }\n",
       "\n",
       "    .dataframe tbody tr th {\n",
       "        vertical-align: top;\n",
       "    }\n",
       "\n",
       "    .dataframe thead th {\n",
       "        text-align: right;\n",
       "    }\n",
       "</style>\n",
       "<table border=\"1\" class=\"dataframe\">\n",
       "  <thead>\n",
       "    <tr style=\"text-align: right;\">\n",
       "      <th></th>\n",
       "      <th>index</th>\n",
       "      <th>Student_ID</th>\n",
       "      <th>Course_Completion_Percentage</th>\n",
       "      <th>Forum_Posts</th>\n",
       "      <th>Student_Satisfaction_Score</th>\n",
       "    </tr>\n",
       "  </thead>\n",
       "  <tbody>\n",
       "    <tr>\n",
       "      <th>4</th>\n",
       "      <td>4</td>\n",
       "      <td>5</td>\n",
       "      <td>92</td>\n",
       "      <td>20</td>\n",
       "      <td>4.8</td>\n",
       "    </tr>\n",
       "    <tr>\n",
       "      <th>7</th>\n",
       "      <td>7</td>\n",
       "      <td>8</td>\n",
       "      <td>95</td>\n",
       "      <td>25</td>\n",
       "      <td>5.0</td>\n",
       "    </tr>\n",
       "    <tr>\n",
       "      <th>9</th>\n",
       "      <td>9</td>\n",
       "      <td>10</td>\n",
       "      <td>91</td>\n",
       "      <td>17</td>\n",
       "      <td>4.7</td>\n",
       "    </tr>\n",
       "  </tbody>\n",
       "</table>\n",
       "</div>"
      ],
      "text/plain": [
       "   index  Student_ID  Course_Completion_Percentage  Forum_Posts  \\\n",
       "4      4           5                            92           20   \n",
       "7      7           8                            95           25   \n",
       "9      9          10                            91           17   \n",
       "\n",
       "   Student_Satisfaction_Score  \n",
       "4                         4.8  \n",
       "7                         5.0  \n",
       "9                         4.7  "
      ]
     },
     "execution_count": 33,
     "metadata": {},
     "output_type": "execute_result"
    }
   ],
   "source": [
    "# Identify High-Engagement Students (More than 15 Forum Posts)\n",
    "HighEngagemeent = data[data['Forum_Posts']> 15]\n",
    "HighEngagemeent"
   ]
  },
  {
   "cell_type": "code",
   "execution_count": 50,
   "id": "80a0a50c",
   "metadata": {},
   "outputs": [
    {
     "name": "stdout",
     "output_type": "stream",
     "text": [
      "   Student_ID  Forum_Posts\n",
      "4           5           20\n",
      "7           8           25\n",
      "9          10           17\n"
     ]
    }
   ],
   "source": [
    "print(HighEngagemeent[['Student_ID','Forum_Posts']])"
   ]
  },
  {
   "cell_type": "code",
   "execution_count": 36,
   "id": "69875ec2",
   "metadata": {},
   "outputs": [
    {
     "name": "stdout",
     "output_type": "stream",
     "text": [
      "Correlation between the Course Completion and Student Satisfaction Score: 0.9703174033670516\n"
     ]
    }
   ],
   "source": [
    "#Correlation Between Course Completion and Student Satisfaction\n",
    "correlation = data['Course_Completion_Percentage'].corr(data['Student_Satisfaction_Score'])\n",
    "print(f\"Correlation between the Course Completion and Student Satisfaction Score: {correlation}\")"
   ]
  },
  {
   "cell_type": "code",
   "execution_count": 40,
   "id": "bff4a4f7",
   "metadata": {},
   "outputs": [
    {
     "name": "stdout",
     "output_type": "stream",
     "text": [
      "Correlation between the Course Completion and Forum Post Score: 0.9413594887914872\n"
     ]
    }
   ],
   "source": [
    "#Correlation Between Course Completion and Forum Post \n",
    "\n",
    "correlat_CC_FP = data['Course_Completion_Percentage'].corr(data['Forum_Posts'])\n",
    "print(f\"Correlation between the Course Completion and Forum Post Score: {correlat_CC_FP}\")"
   ]
  },
  {
   "cell_type": "code",
   "execution_count": 46,
   "id": "82a2c041",
   "metadata": {},
   "outputs": [
    {
     "data": {
      "image/png": "[encoded data removed]",
      "text/plain": [
       "<Figure size 1000x600 with 1 Axes>"
      ]
     },
     "metadata": {},
     "output_type": "display_data"
    }
   ],
   "source": [
    "# Bar Plot for Course Completion vs. Satisfaction Score:\n",
    "plt.figure(figsize=(10, 6))\n",
    "plt.bar(data['Student_ID'], data['Course_Completion_Percentage'], alpha = 0.6, label = \"Completion %\")\n",
    "plt.bar(data['Student_ID'], data['Student_Satisfaction_Score'] * 10, alpha =0.6, label = 'Satisfaction Score')\n",
    "plt.xlabel('Student ID')\n",
    "plt.ylabel('Percentage/ Satisfaction')\n",
    "plt.title('Course Completion  VS Satisfactions  Score')\n",
    "plt.legend()\n",
    "plt.show()"
   ]
  },
  {
   "cell_type": "code",
   "execution_count": 48,
   "id": "1bee4bf3",
   "metadata": {},
   "outputs": [
    {
     "data": {
      "text/plain": [
       "Text(0.5, 1.0, 'Forum Posts vs Satisfaction Score')"
      ]
     },
     "execution_count": 48,
     "metadata": {},
     "output_type": "execute_result"
    },
    {
     "data": {
      "image/png": "[encoded data removed]",
      "text/plain": [
       "<Figure size 640x480 with 1 Axes>"
      ]
     },
     "metadata": {},
     "output_type": "display_data"
    }
   ],
   "source": [
    "# Scatter Plot of Forum Posts vs Satisfaction Score\n",
    "\n",
    "plt.scatter(data['Forum_Posts'], data['Student_Satisfaction_Score'], color ='blue', label = 'Forum Posts vs Satisfaction Score')\n",
    "plt.xlabel('Forum Posts')\n",
    "plt.ylabel('Student Satisfaction Score')\n",
    "plt.title('Forum Posts vs Satisfaction Score')\n"
   ]
  },
  {
   "cell_type": "code",
   "execution_count": 52,
   "id": "fd90829c",
   "metadata": {},
   "outputs": [
    {
     "data": {
      "text/html": [
       "<div>\n",
       "<style scoped>\n",
       "    .dataframe tbody tr th:only-of-type {\n",
       "        vertical-align: middle;\n",
       "    }\n",
       "\n",
       "    .dataframe tbody tr th {\n",
       "        vertical-align: top;\n",
       "    }\n",
       "\n",
       "    .dataframe thead th {\n",
       "        text-align: right;\n",
       "    }\n",
       "</style>\n",
       "<table border=\"1\" class=\"dataframe\">\n",
       "  <thead>\n",
       "    <tr style=\"text-align: right;\">\n",
       "      <th></th>\n",
       "      <th>Student_ID</th>\n",
       "      <th>Course_Completion_Percentage</th>\n",
       "      <th>Engagement_Level</th>\n",
       "    </tr>\n",
       "  </thead>\n",
       "  <tbody>\n",
       "    <tr>\n",
       "      <th>0</th>\n",
       "      <td>1</td>\n",
       "      <td>85</td>\n",
       "      <td>High</td>\n",
       "    </tr>\n",
       "    <tr>\n",
       "      <th>1</th>\n",
       "      <td>2</td>\n",
       "      <td>90</td>\n",
       "      <td>High</td>\n",
       "    </tr>\n",
       "    <tr>\n",
       "      <th>2</th>\n",
       "      <td>3</td>\n",
       "      <td>78</td>\n",
       "      <td>Meduim</td>\n",
       "    </tr>\n",
       "    <tr>\n",
       "      <th>3</th>\n",
       "      <td>4</td>\n",
       "      <td>88</td>\n",
       "      <td>High</td>\n",
       "    </tr>\n",
       "    <tr>\n",
       "      <th>4</th>\n",
       "      <td>5</td>\n",
       "      <td>92</td>\n",
       "      <td>High</td>\n",
       "    </tr>\n",
       "    <tr>\n",
       "      <th>5</th>\n",
       "      <td>6</td>\n",
       "      <td>79</td>\n",
       "      <td>Meduim</td>\n",
       "    </tr>\n",
       "    <tr>\n",
       "      <th>6</th>\n",
       "      <td>7</td>\n",
       "      <td>85</td>\n",
       "      <td>High</td>\n",
       "    </tr>\n",
       "    <tr>\n",
       "      <th>7</th>\n",
       "      <td>8</td>\n",
       "      <td>95</td>\n",
       "      <td>High</td>\n",
       "    </tr>\n",
       "    <tr>\n",
       "      <th>8</th>\n",
       "      <td>9</td>\n",
       "      <td>88</td>\n",
       "      <td>High</td>\n",
       "    </tr>\n",
       "    <tr>\n",
       "      <th>9</th>\n",
       "      <td>10</td>\n",
       "      <td>91</td>\n",
       "      <td>High</td>\n",
       "    </tr>\n",
       "  </tbody>\n",
       "</table>\n",
       "</div>"
      ],
      "text/plain": [
       "   Student_ID  Course_Completion_Percentage Engagement_Level\n",
       "0           1                            85             High\n",
       "1           2                            90             High\n",
       "2           3                            78           Meduim\n",
       "3           4                            88             High\n",
       "4           5                            92             High\n",
       "5           6                            79           Meduim\n",
       "6           7                            85             High\n",
       "7           8                            95             High\n",
       "8           9                            88             High\n",
       "9          10                            91             High"
      ]
     },
     "execution_count": 52,
     "metadata": {},
     "output_type": "execute_result"
    }
   ],
   "source": [
    "# Example: Group by engagement level (completion percentage)\n",
    "bins = [0,60, 80, 100]\n",
    "labels = ['Low','Meduim', 'High']\n",
    "data['Engagement_Level'] = pd.cut(data['Course_Completion_Percentage'], bins = bins, labels =labels)\n",
    "\n",
    "data[['Student_ID', 'Course_Completion_Percentage', 'Engagement_Level']]"
   ]
  },
  {
   "cell_type": "code",
   "execution_count": 54,
   "id": "dc3ea81c",
   "metadata": {},
   "outputs": [
    {
     "data": {
      "text/plain": [
       "Engagement_Level\n",
       "Low         NaN\n",
       "Meduim    78.50\n",
       "High      89.25\n",
       "Name: Course_Completion_Percentage, dtype: float64"
      ]
     },
     "execution_count": 54,
     "metadata": {},
     "output_type": "execute_result"
    }
   ],
   "source": [
    "# Group by engagement level and calculate average satisfaction score\n",
    "Engagement_group = data.groupby('Engagement_Level')['Course_Completion_Percentage'].mean()\n",
    "\n",
    "Engagement_group"
   ]
  },
  {
   "cell_type": "code",
   "execution_count": 56,
   "id": "cc324c46",
   "metadata": {},
   "outputs": [
    {
     "name": "stdout",
     "output_type": "stream",
     "text": [
      "Regression Coefficients: [0.05110985 0.00591885]\n"
     ]
    }
   ],
   "source": [
    "# Example: Using NumPy to perform matrix multiplication for understanding relationship between engagement metrics\n",
    "X = np.array([data['Course_Completion_Percentage'], data['Forum_Posts']])\n",
    "y = np.array(data['Student_Satisfaction_Score'])\n",
    "# Applying Linear Regression Model (simplified)\n",
    "X_transpose = X.T\n",
    "beta = np.linalg.inv(X.dot(X_transpose)).dot(X).dot(y)\n",
    "print(f\"Regression Coefficients: {beta}\")"
   ]
  },
  {
   "cell_type": "code",
   "execution_count": null,
   "id": "3cc41fa7",
   "metadata": {},
   "outputs": [],
   "source": []
  }
 ],
 "metadata": {
  "kernelspec": {
   "display_name": "Python 3 (ipykernel)",
   "language": "python",
   "name": "python3"
  },
  "language_info": {
   "codemirror_mode": {
    "name": "ipython",
    "version": 3
   },
   "file_extension": ".py",
   "mimetype": "text/x-python",
   "name": "python",
   "nbconvert_exporter": "python",
   "pygments_lexer": "ipython3",
   "version": "3.11.5"
  }
 },
 "nbformat": 4,
 "nbformat_minor": 5
}
